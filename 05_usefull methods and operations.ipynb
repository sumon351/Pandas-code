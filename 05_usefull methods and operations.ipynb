{
 "cells": [
  {
   "cell_type": "code",
   "execution_count": null,
   "id": "003e49f8-4c5b-4945-96ec-79df1fc69d65",
   "metadata": {},
   "outputs": [],
   "source": [
    "import numpy as np\n",
    "import pandas as pd\n",
    "import warnings\n",
    "warnings.filterwarnings('ignore')"
   ]
  },
  {
   "cell_type": "code",
   "execution_count": null,
   "id": "ecc15490-015b-4883-a3a2-5a43f8ea5ac3",
   "metadata": {},
   "outputs": [],
   "source": [
    "df=pd.DataFrame(\n",
    "    {\n",
    "        'col_1':[1,2,3,4,5],\n",
    "        'col_2':[111,222,333,111,555],\n",
    "        'col_3':['alpha','bravo','charlie',np.nan,np.nan]\n",
    "    }\n",
    ")"
   ]
  },
  {
   "cell_type": "code",
   "execution_count": null,
   "id": "6978d8ac-1623-4da8-a3f6-1d01396dad54",
   "metadata": {},
   "outputs": [],
   "source": [
    "df"
   ]
  },
  {
   "cell_type": "markdown",
   "id": "ddda41ec-73b5-4dd6-ae29-7e274a644287",
   "metadata": {},
   "source": [
    "# unique()"
   ]
  },
  {
   "cell_type": "code",
   "execution_count": null,
   "id": "915b496e-2150-4ad3-ab09-647febaa530a",
   "metadata": {},
   "outputs": [],
   "source": [
    "df['col_1'].unique()"
   ]
  },
  {
   "cell_type": "code",
   "execution_count": null,
   "id": "82144b17-2741-4100-881e-bc999fe09a40",
   "metadata": {},
   "outputs": [],
   "source": [
    "df['col_2'].unique()"
   ]
  },
  {
   "cell_type": "code",
   "execution_count": null,
   "id": "2a5608d9-8d28-45a9-b494-68f5a72b9d30",
   "metadata": {},
   "outputs": [],
   "source": [
    "df['col_3'].unique()"
   ]
  },
  {
   "cell_type": "markdown",
   "id": "20b87e3e-058b-43e6-9b31-f5db107f3dc9",
   "metadata": {},
   "source": [
    "# nunique() "
   ]
  },
  {
   "cell_type": "code",
   "execution_count": null,
   "id": "547e36a4-f5a7-4cc0-8fe4-cc36dc34fd39",
   "metadata": {},
   "outputs": [],
   "source": [
    "df['col_1'].nunique()"
   ]
  },
  {
   "cell_type": "code",
   "execution_count": null,
   "id": "42239cf8-7211-48de-9eea-e9fe9b85cbd8",
   "metadata": {},
   "outputs": [],
   "source": [
    "df['col_2'].nunique()"
   ]
  },
  {
   "cell_type": "code",
   "execution_count": null,
   "id": "55956b14-6ea9-4cf9-b77a-585d98d32744",
   "metadata": {},
   "outputs": [],
   "source": [
    "df['col_3'].nunique()"
   ]
  },
  {
   "cell_type": "code",
   "execution_count": null,
   "id": "5e6242f0-5907-42a5-809d-aa4d8f856055",
   "metadata": {},
   "outputs": [],
   "source": [
    "df.nunique()"
   ]
  },
  {
   "cell_type": "markdown",
   "id": "27c15c4d-57a6-4c19-a954-12a2a1ecfe49",
   "metadata": {},
   "source": [
    "# value_counts()"
   ]
  },
  {
   "cell_type": "code",
   "execution_count": null,
   "id": "0db421d3-2ef7-4cfd-8f63-13c3bb09cebc",
   "metadata": {},
   "outputs": [],
   "source": [
    "df"
   ]
  },
  {
   "cell_type": "code",
   "execution_count": null,
   "id": "037be1c8-8364-43be-be9d-6acd38c95409",
   "metadata": {},
   "outputs": [],
   "source": [
    "df['col_2'].value_counts()"
   ]
  },
  {
   "cell_type": "markdown",
   "id": "5fad9880-9106-4a5b-9eda-1e06de75aceb",
   "metadata": {},
   "source": [
    "# count()"
   ]
  },
  {
   "cell_type": "code",
   "execution_count": null,
   "id": "e6b75eff-efe6-45b6-95a0-946eafa85a95",
   "metadata": {},
   "outputs": [],
   "source": [
    "df"
   ]
  },
  {
   "cell_type": "code",
   "execution_count": null,
   "id": "8b136668-85a7-47c6-b326-402d8c4a3fb7",
   "metadata": {},
   "outputs": [],
   "source": [
    "df['col_2'].count()"
   ]
  },
  {
   "cell_type": "code",
   "execution_count": null,
   "id": "981a8f46-7308-459f-ae75-5cc9686a763a",
   "metadata": {},
   "outputs": [],
   "source": [
    "df['col_3'].count()"
   ]
  },
  {
   "cell_type": "markdown",
   "id": "ca7cbc70-fd21-4db9-b35b-1d4e953d4be8",
   "metadata": {},
   "source": [
    "# sort_values()"
   ]
  },
  {
   "cell_type": "code",
   "execution_count": null,
   "id": "895435e1-2d6b-4ea6-92ce-2de852880369",
   "metadata": {},
   "outputs": [],
   "source": [
    "df"
   ]
  },
  {
   "cell_type": "code",
   "execution_count": null,
   "id": "01d44107-71fa-4879-b0e4-619207a770ae",
   "metadata": {},
   "outputs": [],
   "source": [
    "df.sort_values(by='col_2')"
   ]
  },
  {
   "cell_type": "code",
   "execution_count": null,
   "id": "e0af78d7-00ba-45bb-9df7-fc631aaf9c40",
   "metadata": {},
   "outputs": [],
   "source": [
    "df.sort_values(by='col_2', ascending=False) # ascending=False =====descending"
   ]
  },
  {
   "cell_type": "code",
   "execution_count": null,
   "id": "76ca30e2-61d4-47f8-baeb-d109b101d35f",
   "metadata": {},
   "outputs": [],
   "source": [
    "df.sort_values(by='col_3')"
   ]
  },
  {
   "cell_type": "markdown",
   "id": "add9a479-21e3-445b-a652-1927f87f40f2",
   "metadata": {},
   "source": [
    "# apply()"
   ]
  },
  {
   "cell_type": "code",
   "execution_count": null,
   "id": "0fc02ee0-aa38-40a8-9282-7df0049637f1",
   "metadata": {},
   "outputs": [],
   "source": [
    "def square(value):\n",
    "    return value*value"
   ]
  },
  {
   "cell_type": "code",
   "execution_count": null,
   "id": "1f0851da-9d5d-487a-82c6-d835d7db9277",
   "metadata": {},
   "outputs": [],
   "source": [
    "square(3)"
   ]
  },
  {
   "cell_type": "code",
   "execution_count": null,
   "id": "82ce7d3c-ed19-4fcc-94f8-20154cf77557",
   "metadata": {},
   "outputs": [],
   "source": [
    "df"
   ]
  },
  {
   "cell_type": "code",
   "execution_count": null,
   "id": "5cb7fb44-261d-4e11-8ec1-ef81b3a5f7d0",
   "metadata": {},
   "outputs": [],
   "source": [
    "df['col_1'].apply(square)"
   ]
  },
  {
   "cell_type": "code",
   "execution_count": null,
   "id": "48a3592d-1efe-44f8-a160-976935ecb832",
   "metadata": {},
   "outputs": [],
   "source": [
    "df['col_2'].apply(square)"
   ]
  },
  {
   "cell_type": "code",
   "execution_count": null,
   "id": "69364425-111a-43ca-9e89-4aaa5c56f1fa",
   "metadata": {},
   "outputs": [],
   "source": [
    "df['col_1'].apply(lambda value:value*value) # lambda parameter:expression"
   ]
  },
  {
   "cell_type": "code",
   "execution_count": null,
   "id": "aa4a43c4-457f-4c34-905f-ef231fac5527",
   "metadata": {},
   "outputs": [],
   "source": [
    "df['col_2'].apply(lambda value:value*value)"
   ]
  },
  {
   "cell_type": "markdown",
   "id": "a77896dc-31ad-4888-b5c4-a147e1631dde",
   "metadata": {},
   "source": [
    "# good to know"
   ]
  },
  {
   "cell_type": "code",
   "execution_count": null,
   "id": "4dc1750e-b9b5-4e56-931d-7dc193487b59",
   "metadata": {},
   "outputs": [],
   "source": [
    "df"
   ]
  },
  {
   "cell_type": "code",
   "execution_count": null,
   "id": "4ebcff82-5f20-4412-b4cb-92c8a3f11f08",
   "metadata": {},
   "outputs": [],
   "source": [
    "df.index"
   ]
  },
  {
   "cell_type": "code",
   "execution_count": null,
   "id": "150cbdf2-3486-4d2d-8a02-72a054057962",
   "metadata": {},
   "outputs": [],
   "source": [
    "df.columns"
   ]
  },
  {
   "cell_type": "code",
   "execution_count": null,
   "id": "b3972f47-ed7b-4009-9ff6-34bdffb5f06a",
   "metadata": {},
   "outputs": [],
   "source": [
    "df"
   ]
  },
  {
   "cell_type": "code",
   "execution_count": null,
   "id": "dfdabd29-621a-4f4a-9f6d-694299aec77a",
   "metadata": {},
   "outputs": [],
   "source": [
    "newdf=df.copy()"
   ]
  },
  {
   "cell_type": "code",
   "execution_count": null,
   "id": "6aead82c-0540-4bd6-a74c-608a1a25a533",
   "metadata": {},
   "outputs": [],
   "source": [
    "newdf"
   ]
  },
  {
   "cell_type": "code",
   "execution_count": null,
   "id": "cd11a185-a7ab-4ef2-960f-2d91290a9440",
   "metadata": {},
   "outputs": [],
   "source": []
  }
 ],
 "metadata": {
  "kernelspec": {
   "display_name": "Python 3 (ipykernel)",
   "language": "python",
   "name": "python3"
  },
  "language_info": {
   "codemirror_mode": {
    "name": "ipython",
    "version": 3
   },
   "file_extension": ".py",
   "mimetype": "text/x-python",
   "name": "python",
   "nbconvert_exporter": "python",
   "pygments_lexer": "ipython3",
   "version": "3.12.7"
  }
 },
 "nbformat": 4,
 "nbformat_minor": 5
}
